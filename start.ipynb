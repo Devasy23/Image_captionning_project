{
  "cells": [
    {
      "cell_type": "code",
      "execution_count": null,
      "metadata": {
        "id": "TNxLM2IPyFqp"
      },
      "outputs": [],
      "source": [
        "!git clone https://github.com/sgrvinod/a-PyTorch-Tutorial-to-Image-Captioning.git"
      ]
    },
    {
      "cell_type": "code",
      "execution_count": null,
      "metadata": {
        "id": "72gJ6u3VyFqs"
      },
      "outputs": [],
      "source": [
        "import pandas as pd\n",
        "import numpy as np\n",
        "\n"
      ]
    },
    {
      "cell_type": "markdown",
      "source": [
        "# Encode ZIP file to video"
      ],
      "metadata": {
        "id": "RBwMDwZ7199V"
      }
    },
    {
      "cell_type": "code",
      "source": [
        "import cv2\n",
        "import numpy as np\n",
        "import zipfile\n",
        "\n",
        "# Open the zip file and read the contents of the first file as bytes\n",
        "with zipfile.ZipFile('model.zip', 'r') as zip_file:\n",
        "    file_bytes = zip_file.read(zip_file.namelist()[0])\n",
        "\n",
        "\n",
        "# Convert the bytes to a binary string\n",
        "binary_str = ''.join(format(byte, '08b') for byte in file_bytes)\n",
        "\n",
        "# Compute the number of pixels needed to encode the binary string\n",
        "pixel_count = len(binary_str) // 3 + 1\n",
        "\n",
        "# Create a black image with the desired dimensions\n",
        "img = np.zeros((1080, 1920, 3), dtype=np.uint8)\n",
        "\n",
        "# Encode the binary string as pixels in the image\n",
        "for i in range(pixel_count):\n",
        "    start = i * 3\n",
        "    end = start + 3\n",
        "    bits = binary_str[start:end].ljust(3, '0')\n",
        "    pixel = tuple(int(bits[j:j+1]) * 255 for j in range(3))\n",
        "    x, y = divmod(i, 1920)\n",
        "    img[x, y] = pixel\n",
        "\n",
        "# Save the image as a video with a low frame rate\n",
        "fps = 30\n",
        "frame_count = fps*8\n",
        "fourcc = cv2.VideoWriter_fourcc(*'mp4v')\n",
        "out = cv2.VideoWriter('file.mp4', fourcc, fps, (1920, 1080))\n",
        "for i in range(frame_count):\n",
        "    out.write(img)\n",
        "out.release()\n",
        "cv2.destroyAllWindows()\n"
      ],
      "metadata": {
        "id": "_zUVQnKdyHq-",
        "outputId": "6cf4772a-e322-47fb-87f2-efda354b6a7c",
        "colab": {
          "base_uri": "https://localhost:8080/",
          "height": 235
        }
      },
      "execution_count": 8,
      "outputs": [
        {
          "output_type": "error",
          "ename": "IndexError",
          "evalue": "ignored",
          "traceback": [
            "\u001b[0;31m---------------------------------------------------------------------------\u001b[0m",
            "\u001b[0;31mIndexError\u001b[0m                                Traceback (most recent call last)",
            "\u001b[0;32m<ipython-input-8-e324105c8241>\u001b[0m in \u001b[0;36m<cell line: 20>\u001b[0;34m()\u001b[0m\n\u001b[1;32m     24\u001b[0m     \u001b[0mpixel\u001b[0m \u001b[0;34m=\u001b[0m \u001b[0mtuple\u001b[0m\u001b[0;34m(\u001b[0m\u001b[0mint\u001b[0m\u001b[0;34m(\u001b[0m\u001b[0mbits\u001b[0m\u001b[0;34m[\u001b[0m\u001b[0mj\u001b[0m\u001b[0;34m:\u001b[0m\u001b[0mj\u001b[0m\u001b[0;34m+\u001b[0m\u001b[0;36m1\u001b[0m\u001b[0;34m]\u001b[0m\u001b[0;34m)\u001b[0m \u001b[0;34m*\u001b[0m \u001b[0;36m255\u001b[0m \u001b[0;32mfor\u001b[0m \u001b[0mj\u001b[0m \u001b[0;32min\u001b[0m \u001b[0mrange\u001b[0m\u001b[0;34m(\u001b[0m\u001b[0;36m3\u001b[0m\u001b[0;34m)\u001b[0m\u001b[0;34m)\u001b[0m\u001b[0;34m\u001b[0m\u001b[0;34m\u001b[0m\u001b[0m\n\u001b[1;32m     25\u001b[0m     \u001b[0mx\u001b[0m\u001b[0;34m,\u001b[0m \u001b[0my\u001b[0m \u001b[0;34m=\u001b[0m \u001b[0mdivmod\u001b[0m\u001b[0;34m(\u001b[0m\u001b[0mi\u001b[0m\u001b[0;34m,\u001b[0m \u001b[0;36m1920\u001b[0m\u001b[0;34m)\u001b[0m\u001b[0;34m\u001b[0m\u001b[0;34m\u001b[0m\u001b[0m\n\u001b[0;32m---> 26\u001b[0;31m     \u001b[0mimg\u001b[0m\u001b[0;34m[\u001b[0m\u001b[0mx\u001b[0m\u001b[0;34m,\u001b[0m \u001b[0my\u001b[0m\u001b[0;34m]\u001b[0m \u001b[0;34m=\u001b[0m \u001b[0mpixel\u001b[0m\u001b[0;34m\u001b[0m\u001b[0;34m\u001b[0m\u001b[0m\n\u001b[0m\u001b[1;32m     27\u001b[0m \u001b[0;34m\u001b[0m\u001b[0m\n\u001b[1;32m     28\u001b[0m \u001b[0;31m# Save the image as a video with a low frame rate\u001b[0m\u001b[0;34m\u001b[0m\u001b[0;34m\u001b[0m\u001b[0m\n",
            "\u001b[0;31mIndexError\u001b[0m: index 1080 is out of bounds for axis 0 with size 1080"
          ]
        }
      ]
    },
    {
      "cell_type": "code",
      "source": [
        "# Decode from Mp4"
      ],
      "metadata": {
        "id": "IwHUm4Nx2B3x"
      },
      "execution_count": null,
      "outputs": []
    },
    {
      "cell_type": "code",
      "source": [
        "import cv2\n",
        "import numpy as np\n",
        "import zipfile\n",
        "\n",
        "# Open the video file and extract the pixel values from each frame\n",
        "cap = cv2.VideoCapture('file.mp4')\n",
        "frame_count = int(cap.get(cv2.CAP_PROP_FRAME_COUNT))\n",
        "pixels = []\n",
        "for i in range(frame_count):\n",
        "    ret, frame = cap.read()\n",
        "    if not ret:\n",
        "        break\n",
        "    pixels.extend(frame.reshape(-1, 3))\n",
        "\n",
        "# Convert the pixel values to a binary string\n",
        "binary_str = ''.join(str(pixel[0] // 255) for pixel in pixels)\n",
        "\n",
        "# Convert the binary string to bytes\n",
        "file_bytes = bytearray(int(binary_str[i:i+8], 2) for i in range(0, len(binary_str), 8))\n",
        "\n",
        "# Write the bytes to a new zip file\n",
        "with zipfile.ZipFile('decoded.zip', 'w') as zip_file:\n",
        "    with zipfile.ZipFile('file.zip', 'r') as orig_zip_file:\n",
        "        for info in orig_zip_file.infolist():\n",
        "            with orig_zip_file.open(info) as orig_file:\n",
        "                if info.filename != 'file.txt':\n",
        "                    zip_file.writestr(info, orig_file.read())\n",
        "                else:\n",
        "                    zip_file.writestr(info.filename, file_bytes)\n"
      ],
      "metadata": {
        "id": "I-uOSURZzYvy"
      },
      "execution_count": 6,
      "outputs": []
    }
  ],
  "metadata": {
    "language_info": {
      "name": "python"
    },
    "orig_nbformat": 4,
    "colab": {
      "provenance": []
    },
    "kernelspec": {
      "name": "python3",
      "display_name": "Python 3"
    },
    "gpuClass": "standard"
  },
  "nbformat": 4,
  "nbformat_minor": 0
}