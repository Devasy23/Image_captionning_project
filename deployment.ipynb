{
 "cells": [
  {
   "cell_type": "code",
   "execution_count": 1,
   "metadata": {},
   "outputs": [
    {
     "name": "stdout",
     "output_type": "stream",
     "text": [
      "Downloading data from https://storage.googleapis.com/tensorflow/keras-applications/vgg16/vgg16_weights_tf_dim_ordering_tf_kernels_notop.h5\n",
      "58889256/58889256 [==============================] - 4s 0us/step\n",
      "WARNING:tensorflow:Compiled the loaded model, but the compiled metrics have yet to be built. `model.compile_metrics` will be empty until you train or evaluate the model.\n"
     ]
    }
   ],
   "source": [
    "# get vgg16 model and pop the last layer\n",
    "from keras.applications.vgg16 import VGG16\n",
    "vgg16 = VGG16(weights='imagenet', include_top=False, input_shape=(224, 224, 3))\n",
    "vgg16.layers.pop()\n",
    "# save the model\n",
    "vgg16.save('vgg16.h5')"
   ]
  },
  {
   "cell_type": "code",
   "execution_count": null,
   "metadata": {},
   "outputs": [],
   "source": [
    "# deployment of Image captioning model\n",
    "\n",
    "import os\n",
    "from PIL import Image\n",
    "import numpy as np\n",
    "import tensorflow as tf\n",
    "from tensorflow.keras.preprocessing import image\n",
    "from tensorflow.keras.applications.resnet50 import preprocess_input, decode_predictions\n",
    "from tensorflow.keras.models import load_model\n",
    "from tensorflow.keras.preprocessing.sequence import pad_sequences\n",
    "# import vgg16\n",
    "from tensorflow.keras.applications.vgg16 import VGG16, preprocess_input\n",
    "\n",
    "# load the model\n",
    "model = load_model('model_9.h5')\n",
    "\n",
    "# load image from file\n",
    "image = image.load_img('image.jpg', target_size=(224, 224))\n",
    " \n",
    "'''from tensorflow.keras.preprocessing.image import load_img, img_to_array\n",
    "from tensorflow.keras.applications.vgg16 import preprocess_input\n",
    "from collections import OrderedDict\n",
    "\n",
    "images = OrderedDict()\n",
    "npix = 224\n",
    "target_size = (npix,npix,3)\n",
    "data = np.zeros((len(jpgs),npix,npix,3))\n",
    "for i,name in enumerate(jpgs):\n",
    "    # load an image from file\n",
    "    filename = dir_Flickr_jpg + '/' + name\n",
    "    image = load_img(filename, target_size=target_size)\n",
    "    # convert the image pixels to a numpy array\n",
    "    image = img_to_array(image)\n",
    "    nimage = preprocess_input(image)\n",
    "    \n",
    "    y_pred = modelvgg.predict(nimage.reshape( (1,) + nimage.shape[:3]))\n",
    "    images[name] = y_pred.flatten()\n",
    "    \n",
    "    rewrite this code to preprocess a single image from vgg16'''\n",
    "    \n",
    "def imgtotensor(image, vgg16):\n",
    "    # convert the image pixels to a numpy array\n",
    "    image = img_to_array(image)\n",
    "    # reshape data for the model\n",
    "    image = image.reshape((1, image.shape[0], image.shape[1], image.shape[2]))\n",
    "    # prepare the image for the VGG model\n",
    "    image = preprocess_input(image)\n",
    "    # get features\n",
    "    feature = vgg16.predict(image, verbose=0)\n",
    "    return feature\n",
    "\n",
    "\n",
    " \n",
    " "
   ]
  }
 ],
 "metadata": {
  "kernelspec": {
   "display_name": "Python 3",
   "language": "python",
   "name": "python3"
  },
  "language_info": {
   "codemirror_mode": {
    "name": "ipython",
    "version": 3
   },
   "file_extension": ".py",
   "mimetype": "text/x-python",
   "name": "python",
   "nbconvert_exporter": "python",
   "pygments_lexer": "ipython3",
   "version": "3.10.5"
  },
  "orig_nbformat": 4
 },
 "nbformat": 4,
 "nbformat_minor": 2
}
