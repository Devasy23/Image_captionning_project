{
 "cells": [
  {
   "cell_type": "code",
   "execution_count": 6,
   "metadata": {},
   "outputs": [
    {
     "name": "stdout",
     "output_type": "stream",
     "text": [
      "WARNING:tensorflow:Compiled the loaded model, but the compiled metrics have yet to be built. `model.compile_metrics` will be empty until you train or evaluate the model.\n"
     ]
    }
   ],
   "source": [
    "# get vgg16 model and pop the last layer\n",
    "from keras.applications.vgg16 import VGG16\n",
    "vgg16 = VGG16(weights='imagenet', include_top=False, input_shape=(224, 224, 3))\n",
    "vgg16.layers.pop()\n",
    "# save the model\n",
    "vgg16.save('vgg16.h5')"
   ]
  },
  {
   "cell_type": "code",
   "execution_count": 36,
   "metadata": {},
   "outputs": [
    {
     "name": "stdout",
     "output_type": "stream",
     "text": [
      "1/1 [==============================] - 3s 3s/step\n"
     ]
    },
    {
     "data": {
      "text/plain": [
       "(1, 4096)"
      ]
     },
     "execution_count": 36,
     "metadata": {},
     "output_type": "execute_result"
    }
   ],
   "source": [
    "# deployment of Image captioning model\n",
    "\n",
    "import os\n",
    "from PIL import Image\n",
    "import numpy as np\n",
    "import tensorflow as tf\n",
    "from tensorflow.keras.preprocessing import image\n",
    "from tensorflow.keras.applications.resnet50 import preprocess_input, decode_predictions\n",
    "from tensorflow.keras.models import load_model\n",
    "from tensorflow.keras.preprocessing.sequence import pad_sequences\n",
    "# import vgg16\n",
    "from tensorflow.keras.applications.vgg16 import VGG16, preprocess_input\n",
    "\n",
    "# load the model\n",
    "# model = load_model('model_9.h5')\n",
    "\n",
    "# load image from file\n",
    "image = image.load_img('image.jpg', target_size=(224, 224))\n",
    " \n",
    "from tensorflow.keras.preprocessing.image import load_img, img_to_array\n",
    "from tensorflow.keras.applications.vgg16 import preprocess_input\n",
    "from tensorflow.keras.models import load_model\n",
    "from tensorflow.keras.models import Model\n",
    "\n",
    "def preprocess_image(image_path):\n",
    "    \n",
    "    # Load VGG16 model with desired output layer\n",
    "    model = VGG16()\n",
    "    model = Model(inputs=model.inputs, outputs=model.layers[-2].output)\n",
    "    \n",
    "    # Load and preprocess image\n",
    "    npix = 224\n",
    "    target_size = (npix, npix, 3)\n",
    "    image = load_img(image_path, target_size=target_size)\n",
    "    image = img_to_array(image)\n",
    "    image = preprocess_input(image)\n",
    "    \n",
    "    # Make a prediction using VGG16 model\n",
    "    prediction = model.predict(image.reshape((1,) + image.shape[:3]))\n",
    "    \n",
    "    return prediction.flatten()\n",
    "\n",
    "x = preprocess_image('image.jpg')\n",
    "x = x.reshape(1, -1)\n",
    "x.shape\n"
   ]
  },
  {
   "cell_type": "code",
   "execution_count": 37,
   "metadata": {},
   "outputs": [
    {
     "name": "stdout",
     "output_type": "stream",
     "text": [
      "Model: \"model_2\"\n",
      "__________________________________________________________________________________________________\n",
      " Layer (type)                   Output Shape         Param #     Connected to                     \n",
      "==================================================================================================\n",
      " input_7 (InputLayer)           [(None, 30)]         0           []                               \n",
      "                                                                                                  \n",
      " embedding (Embedding)          (None, 30, 64)       286464      ['input_7[0][0]']                \n",
      "                                                                                                  \n",
      " input_6 (InputLayer)           [(None, 4096)]       0           []                               \n",
      "                                                                                                  \n",
      " CaptionFeature (LSTM)          (None, 256)          328704      ['embedding[0][0]']              \n",
      "                                                                                                  \n",
      " ImageFeature (Dense)           (None, 256)          1048832     ['input_6[0][0]']                \n",
      "                                                                                                  \n",
      " add (Add)                      (None, 256)          0           ['CaptionFeature[0][0]',         \n",
      "                                                                  'ImageFeature[0][0]']           \n",
      "                                                                                                  \n",
      " dense (Dense)                  (None, 256)          65792       ['add[0][0]']                    \n",
      "                                                                                                  \n",
      " dense_1 (Dense)                (None, 4476)         1150332     ['dense[0][0]']                  \n",
      "                                                                                                  \n",
      "==================================================================================================\n",
      "Total params: 2,880,124\n",
      "Trainable params: 2,880,124\n",
      "Non-trainable params: 0\n",
      "__________________________________________________________________________________________________\n"
     ]
    }
   ],
   "source": [
    "loaded_Model = tf.keras.models.load_model('my_model.h5', compile=False)\n",
    "loaded_Model.compile(loss='categorical_crossentropy', optimizer='adam')\n",
    "\n",
    "loaded_Model.summary()"
   ]
  },
  {
   "cell_type": "code",
   "execution_count": 39,
   "metadata": {},
   "outputs": [
    {
     "data": {
      "text/plain": [
       "'startseq brown dog is running in the grass endseq'"
      ]
     },
     "execution_count": 39,
     "metadata": {},
     "output_type": "execute_result"
    }
   ],
   "source": [
    "import numpy as np\n",
    "import pickle\n",
    "\n",
    "\n",
    "def predict_caption(image, tokenizer, model, maxlen):\n",
    "    '''\n",
    "    image.shape = (1, 4462)\n",
    "    '''\n",
    "    in_text = 'startseq'\n",
    "\n",
    "\n",
    "    for iword in range(maxlen):\n",
    "        sequence = tokenizer.texts_to_sequences([in_text])[0]\n",
    "        sequence = pad_sequences([sequence], maxlen)\n",
    "        yhat = model.predict([image, sequence], verbose=0)\n",
    "        yhat = np.argmax(yhat)\n",
    "        newword = index_word[yhat]\n",
    "        in_text += \" \" + newword\n",
    "        if newword == \"endseq\":\n",
    "            break\n",
    "    return (in_text)\n",
    "\n",
    "\n",
    "tokenizer = pickle.load(open('tokenizer.pkl', 'rb'))\n",
    "index_word = dict([(index, word)\n",
    "                  for word, index in tokenizer.word_index.items()])\n",
    "\n",
    "predict_caption(x, tokenizer, loaded_Model, 30)\n"
   ]
  }
 ],
 "metadata": {
  "kernelspec": {
   "display_name": "Python 3",
   "language": "python",
   "name": "python3"
  },
  "language_info": {
   "codemirror_mode": {
    "name": "ipython",
    "version": 3
   },
   "file_extension": ".py",
   "mimetype": "text/x-python",
   "name": "python",
   "nbconvert_exporter": "python",
   "pygments_lexer": "ipython3",
   "version": "3.10.5"
  },
  "orig_nbformat": 4
 },
 "nbformat": 4,
 "nbformat_minor": 2
}
